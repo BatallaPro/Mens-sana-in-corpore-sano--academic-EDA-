{
 "cells": [
  {
   "cell_type": "markdown",
   "id": "4d3cc7c2-06e4-4e6b-8cf7-4f14cc587ea1",
   "metadata": {},
   "source": [
    "# 01.- CREATING FOOD DATABASE"
   ]
  },
  {
   "cell_type": "markdown",
   "id": "74045fba-6936-4a2b-b129-daa23e5de2fa",
   "metadata": {},
   "source": [
    "We will start building our dataset scrapping the information from [BEDCA](https://www.bedca.net/bdpub/index.php)the Spanish Food Composition  \n",
    "Database published by the Ministry of Science and Innovation and under the coordination and funding  \n",
    "of the Spanish Agency for Food Safety and Nutrition of the Ministry of Health, Social Services and Equality.\n",
    "\n",
    "The food composition values collected in this database have been obtained from different sources that  \n",
    "include laboratories, the food industry and scientific publications or have been calculated by the agency.\n",
    "\n",
    "Our databse will be stored in a `pandas.DataFrame`."
   ]
  },
  {
   "cell_type": "markdown",
   "id": "036c83ab-ac73-4d95-b4d5-c3b9d1809de8",
   "metadata": {
    "tags": []
   },
   "source": [
    "### PREREQUISITES"
   ]
  },
  {
   "cell_type": "code",
   "execution_count": null,
   "id": "5e9e235b-56a9-461a-85aa-bd4d7313756f",
   "metadata": {
    "tags": []
   },
   "outputs": [],
   "source": [
    "# !pip install selenium\n",
    "# !pip install webdriver-manager"
   ]
  },
  {
   "cell_type": "markdown",
   "id": "a9f5f535-b3a7-4f16-8689-4e5d6679898a",
   "metadata": {
    "tags": []
   },
   "source": [
    "### IMPORTS"
   ]
  },
  {
   "cell_type": "code",
   "execution_count": null,
   "id": "0e8f809c-3de9-4da0-91c2-a4c5a12b1fa9",
   "metadata": {
    "tags": []
   },
   "outputs": [],
   "source": [
    "import numpy as np\n",
    "import pandas as pd\n",
    "\n",
    "from selenium import webdriver\n",
    "from selenium.webdriver.common.by import By"
   ]
  },
  {
   "cell_type": "code",
   "execution_count": null,
   "id": "022bdad5-0286-44b9-aa02-7bdc94f8bc29",
   "metadata": {
    "tags": []
   },
   "outputs": [],
   "source": [
    "from funcs_data import mklist, item_to_lists, nameof\n",
    "\n",
    "from funcs_driver import launch_driver, goto, foodindex, get_in, get_back\n",
    "\n",
    "from funcs_scrapping import get_general_info, get_nutritional_facts\n",
    "from funcs_scrapping import refine_nutritional_facts, get_group_info"
   ]
  },
  {
   "cell_type": "code",
   "execution_count": null,
   "id": "9745d591-da71-4f71-9bd3-84afccd12ff6",
   "metadata": {},
   "outputs": [],
   "source": [
    "# This cell only needs to be executed to update funcs_driver\n",
    "# and funcs_scrapping after them have been imported\n",
    "\n",
    "# %run funcs_data\n",
    "# %run funcs_driver.py\n",
    "# %run funcs_scrapping.py"
   ]
  },
  {
   "cell_type": "markdown",
   "id": "e5520c75-5af8-48f0-9de8-0fe84fbabe29",
   "metadata": {
    "tags": []
   },
   "source": [
    "### BUILDING THE DATAFRAME ( I )"
   ]
  },
  {
   "cell_type": "markdown",
   "id": "4aaebb20-9853-45ee-87c6-e5973aa9cf56",
   "metadata": {},
   "source": [
    "Reading up on [different ways to increase a DataFrame](https://stackoverflow.com/questions/13784192/creating-an-empty-pandas-dataframe-then-filling-it) lead me to build a list for every column to be  \n",
    "grown via `list.append()` and then build the `pd.DataFrame`"
   ]
  },
  {
   "cell_type": "code",
   "execution_count": null,
   "id": "764ebfda-a26f-40c0-b256-db47150e73b2",
   "metadata": {
    "tags": []
   },
   "outputs": [],
   "source": [
    "# The DataFrame will be made of a group de characteristics that we will use as columns\n",
    "general_info =  ['foodname_ESP', 'foodname_ENG',\n",
    "                 'quantity']\n",
    "macros =        ['energy', 'fats', 'prot', 'carbs']\n",
    "complementary = ['water', 'fiber', 'm_unsat_fats',\n",
    "                 'p_unsat_fats', 'sat_fats']\n",
    "flags =         ['palm_acid']\n",
    "minerals =      ['calcium', 'iron', 'potassium', 'magnesium',\n",
    "                 'sodium', 'phosphorus', 'iodide', 'selenium',\n",
    "                 'zinc']\n",
    "vitamins =      ['A', 'D', 'E', 'B9', 'B3', 'B2', 'B1',\n",
    "                 'B12', 'B6', 'C']\n",
    "\n",
    "characteristics = general_info + macros + complementary + flags + minerals + vitamins\n",
    "\n",
    "# Lets generate all lists with the help of a short func build 'ad hoc'\n",
    "foodname_ESP, foodname_ENG, quantity = mklist(len(general_info))\n",
    "energy, fats, prot, carbs = mklist(len(macros))\n",
    "water, fiber, m_unsat_fats, p_unsat_fats, sat_fats = mklist(len(complementary))  \n",
    "palm_acid = []\n",
    "calcium, iron, potassium, magnesium, sodium, phosphorus, iodide, selenium, zinc = mklist(len(minerals))\n",
    "A, D, E, B9, B3, B2, B1, B12, B6, C = mklist(len(vitamins))\n",
    "\n",
    "# To make it easier to add elements to every list, a 'superlist' is created\n",
    "lists = [foodname_ESP, foodname_ENG, quantity,\n",
    "         energy, fats, prot, carbs,\n",
    "         water, fiber, m_unsat_fats, p_unsat_fats,\n",
    "         sat_fats, palm_acid, calcium, iron,\n",
    "         potassium, magnesium, sodium, phosphorus,\n",
    "         iodide, selenium, zinc, A, D, E,\n",
    "         B9, B3, B2, B1, B12, B6, C]"
   ]
  },
  {
   "cell_type": "markdown",
   "id": "62f5c25a-bd4d-428c-8379-953dfaeb7572",
   "metadata": {},
   "source": [
    "With all the lists created its time to make them grow with the scrapped data"
   ]
  },
  {
   "cell_type": "markdown",
   "id": "fee3d850-09ff-40c6-b348-3b68fa45173e",
   "metadata": {
    "tags": []
   },
   "source": [
    "### SCRAPPING"
   ]
  },
  {
   "cell_type": "code",
   "execution_count": null,
   "id": "d678da2d-a244-4caa-ab8d-0aecbc141521",
   "metadata": {
    "tags": []
   },
   "outputs": [],
   "source": [
    "# Build the driver using Firefox as navigator\n",
    "driver = launch_driver()"
   ]
  },
  {
   "cell_type": "code",
   "execution_count": null,
   "id": "ce269106-cdac-43b7-948c-1599cac70a98",
   "metadata": {
    "tags": []
   },
   "outputs": [],
   "source": [
    "# With the base URL of the database the program will go to the all-food list\n",
    "url = 'https://www.bedca.net/bdpub/index.php'\n",
    "goto(driver, url)"
   ]
  },
  {
   "cell_type": "code",
   "execution_count": null,
   "id": "91283452-70f6-4efb-a029-a306c737fef3",
   "metadata": {
    "tags": []
   },
   "outputs": [],
   "source": [
    "# Generating an iterator with every food found\n",
    "num_of_foods = len(foodindex(driver))\n",
    "\n",
    "for i in range(num_of_foods):\n",
    "    # The website refreshes everytime we go in and out of a food\n",
    "    # so it so the iterator needs to be regenerated at every loop\n",
    "    foods = foodindex(driver)\n",
    "    item = []\n",
    "    \n",
    "    # Get in - Get data\n",
    "    get_in(foods[i])\n",
    "    get_general_info(driver, item)\n",
    "    get_nutritional_facts(driver, item)\n",
    "    refine_nutritional_facts(driver, item)\n",
    "\n",
    "    # Add information found to lists\n",
    "    item_to_lists(item, lists)\n",
    "\n",
    "    # Get out\n",
    "    get_back(driver)\n",
    "    \n",
    "    ### CHECKPOINT ###\n",
    "    # In case of exception just change the range\n",
    "    # at the top for range(last_i_printed, num_of_foods):\n",
    "    print(i, foodname_ESP[i])"
   ]
  },
  {
   "cell_type": "markdown",
   "id": "6864d82f-1d91-4dfd-b90c-9e8b05994edb",
   "metadata": {
    "tags": []
   },
   "source": [
    "### BUILDING THE DATAFRAME ( II )"
   ]
  },
  {
   "cell_type": "markdown",
   "id": "db5efe79-bddf-47e9-a011-728317aa1bf4",
   "metadata": {},
   "source": [
    "With all foods inspected and all lists filled its time to finish the `pd.DataFrame` construction"
   ]
  },
  {
   "cell_type": "code",
   "execution_count": null,
   "id": "f8b00122-e5c7-48ec-8b96-868099326cde",
   "metadata": {
    "tags": []
   },
   "outputs": [],
   "source": [
    "data = {k: v for k, v in zip(characteristics, lists)}\n",
    "\n",
    "nutritional_values = pd.DataFrame(data)\n",
    "nutritional_values.set_index(['foodname_ESP', 'foodname_ENG'], inplace=True)"
   ]
  },
  {
   "cell_type": "markdown",
   "id": "d72befcc-7326-40e0-a50f-44738387c212",
   "metadata": {},
   "source": [
    "Let's take a quicklook to the DataFrame"
   ]
  },
  {
   "cell_type": "code",
   "execution_count": null,
   "id": "95ed43c9-29f4-4fc6-b4e1-c94dd1bc27c9",
   "metadata": {},
   "outputs": [],
   "source": [
    "nutritional_values.head()"
   ]
  },
  {
   "cell_type": "markdown",
   "id": "72207342-44d1-4965-addd-9134d32842d7",
   "metadata": {},
   "source": [
    "And export as `.csv` the database"
   ]
  },
  {
   "cell_type": "code",
   "execution_count": null,
   "id": "ad9e122d-843f-4e04-a47a-98e8750c3322",
   "metadata": {
    "tags": []
   },
   "outputs": [],
   "source": [
    "nutritional_values.to_csv('./data/nutritional_values.csv', encoding='utf-8')"
   ]
  },
  {
   "cell_type": "markdown",
   "id": "b80acb47-f1d3-4b75-a29b-18d651127805",
   "metadata": {
    "tags": []
   },
   "source": [
    "### THE MORE YOU KNOW..."
   ]
  },
  {
   "cell_type": "markdown",
   "id": "2bccacc6-054b-493e-8db4-9d9634aaa49e",
   "metadata": {},
   "source": [
    "Our database also contains information on which food group each food belongs to.  \n",
    "Due to the navigation operation is high time consuming to code, I prefered to get this information by hand,  \n",
    "clicking on the driver to access to the desired page and then letting the scrapper get the information"
   ]
  },
  {
   "cell_type": "code",
   "execution_count": null,
   "id": "d1d72328-7d46-4f3d-a0e8-ecc724d59f5c",
   "metadata": {},
   "outputs": [],
   "source": [
    "dairy_group = get_group_info(driver, dairy_group)"
   ]
  },
  {
   "cell_type": "code",
   "execution_count": null,
   "id": "0a803577-1f0f-4873-a6a8-d724ed7ca53c",
   "metadata": {},
   "outputs": [],
   "source": [
    "eggs_group = get_group_info(driver, eggs_group)"
   ]
  },
  {
   "cell_type": "code",
   "execution_count": null,
   "id": "0dff8a95-4f4c-4e20-bcd7-1692aa5fae9a",
   "metadata": {},
   "outputs": [],
   "source": [
    "meat_group = get_group_info(driver, meat_group)"
   ]
  },
  {
   "cell_type": "code",
   "execution_count": null,
   "id": "817b1f7c-7133-4235-a5c9-7b35606c9daf",
   "metadata": {},
   "outputs": [],
   "source": [
    "seafood_group = get_group_info(driver, seafood_group)"
   ]
  },
  {
   "cell_type": "code",
   "execution_count": null,
   "id": "29015b78-bec8-47cc-a101-f6d5f9a1a046",
   "metadata": {},
   "outputs": [],
   "source": [
    "fats_oils_group = get_group_info(driver, fats_oils_group)"
   ]
  },
  {
   "cell_type": "code",
   "execution_count": null,
   "id": "b5e92d42-7e5a-4001-a26d-49b5f9fa3bfc",
   "metadata": {},
   "outputs": [],
   "source": [
    "cereals_group = get_group_info(driver, cereals_group)"
   ]
  },
  {
   "cell_type": "code",
   "execution_count": null,
   "id": "a34f820d-c19a-449c-a1de-27d77e769706",
   "metadata": {},
   "outputs": [],
   "source": [
    "legumes_group = get_group_info(driver, legumes_group)"
   ]
  },
  {
   "cell_type": "code",
   "execution_count": null,
   "id": "9c99f7c3-fd21-4f94-9cc9-897134d252d4",
   "metadata": {},
   "outputs": [],
   "source": [
    "vegetables_group = get_group_info(driver, vegetables_group)"
   ]
  },
  {
   "cell_type": "code",
   "execution_count": null,
   "id": "09f062f0-2790-4a74-815e-c0e95eaefd07",
   "metadata": {},
   "outputs": [],
   "source": [
    "fruits_group = get_group_info(driver, fruits_group)"
   ]
  },
  {
   "cell_type": "code",
   "execution_count": null,
   "id": "6fec390a-23c3-448d-a614-9a928f6cfb19",
   "metadata": {},
   "outputs": [],
   "source": [
    "sweets_group = get_group_info(driver, sweets_group)"
   ]
  },
  {
   "cell_type": "code",
   "execution_count": null,
   "id": "1cbae890-d436-4612-ae11-fefbaa39c21e",
   "metadata": {},
   "outputs": [],
   "source": [
    "drinks_group = get_group_info(driver, drinks_group)"
   ]
  },
  {
   "cell_type": "code",
   "execution_count": null,
   "id": "3752572a-5c6d-457e-9c02-efa1f084ce02",
   "metadata": {},
   "outputs": [],
   "source": [
    "misc_group = get_group_info(driver, misc_group)"
   ]
  },
  {
   "cell_type": "code",
   "execution_count": null,
   "id": "9ad62091-2813-48d4-bdc2-3ef960a1e34b",
   "metadata": {},
   "outputs": [],
   "source": [
    "groups = [dairy_group, eggs_group, meat_group,\n",
    "          seafood_group, fats_oils_group, cereals_group,\n",
    "          legumes_group, vegetables_group, fruits_group,\n",
    "          sweets_group, drinks_group, misc_group]"
   ]
  },
  {
   "cell_type": "markdown",
   "id": "ef4b31a9-0a2f-41ac-9de0-b951d9930d67",
   "metadata": {
    "tags": []
   },
   "source": [
    "##### Let's take a quicklook at the information of the groups"
   ]
  },
  {
   "cell_type": "code",
   "execution_count": null,
   "id": "1a4685f8-ac0d-4877-94bc-89f73022c0c7",
   "metadata": {},
   "outputs": [],
   "source": [
    "num_of_items = 0\n",
    "for group in groups:\n",
    "    num_of_items += len(group)\n",
    "    print(len(group), 'items in', nameof(group, globals()))\n",
    "    \n",
    "print(num_of_items, 'items in total')"
   ]
  },
  {
   "cell_type": "markdown",
   "id": "03b8f20f-1495-4596-b5ea-f981f051bd8a",
   "metadata": {},
   "source": [
    "Now let's build a `pd.Series`for each group and export them as `.csv` later on we can import them again."
   ]
  },
  {
   "cell_type": "code",
   "execution_count": null,
   "id": "ce7e1cfd-82a1-438c-b633-7eb06d1c1a7e",
   "metadata": {},
   "outputs": [],
   "source": [
    "for group in groups:\n",
    "    name_of_Series = nameof(group, globals())\n",
    "    series = pd.Series(group, name=f'{name_of_Series}')\n",
    "    series.to_csv(f'./data/{name_of_Series}.csv', encoding='utf-8')"
   ]
  },
  {
   "cell_type": "code",
   "execution_count": null,
   "id": "1e86d140-5a0a-44d1-9392-b7eac635ad85",
   "metadata": {},
   "outputs": [],
   "source": [
    "# There was an error with misc_group name (see cell above)\n",
    "# This cell overwrites the corresponding Series\n",
    "\n",
    "name_of_Series = 'misc_group'\n",
    "series = pd.Series(misc_group, name=f'{name_of_Series}')\n",
    "series.to_csv(f'./data/{name_of_Series}.csv', encoding='utf-8')"
   ]
  }
 ],
 "metadata": {
  "kernelspec": {
   "display_name": "Python 3 (ipykernel)",
   "language": "python",
   "name": "python3"
  },
  "language_info": {
   "codemirror_mode": {
    "name": "ipython",
    "version": 3
   },
   "file_extension": ".py",
   "mimetype": "text/x-python",
   "name": "python",
   "nbconvert_exporter": "python",
   "pygments_lexer": "ipython3",
   "version": "3.8.12"
  }
 },
 "nbformat": 4,
 "nbformat_minor": 5
}
