{
 "cells": [
  {
   "cell_type": "markdown",
   "id": "7475a521-df9f-40ab-9683-8065b9f6fe5e",
   "metadata": {},
   "source": [
    "# 03.- RECIPES"
   ]
  },
  {
   "cell_type": "markdown",
   "id": "d67e493b-feb4-4a85-aed1-3d4c5bc03fc7",
   "metadata": {},
   "source": [
    "At this point, we need to generate the specific DataFrames to be plotted.\n",
    "\n",
    "To do this, let's cook a few recipes!"
   ]
  },
  {
   "cell_type": "markdown",
   "id": "bc4f4ebe-205b-43c8-9090-a07fef04042d",
   "metadata": {
    "tags": []
   },
   "source": [
    "___\n",
    "### IMPORTS"
   ]
  },
  {
   "cell_type": "code",
   "execution_count": 1,
   "id": "4a7d5ec4-a5eb-4ec2-a591-c59963c5c06a",
   "metadata": {
    "jupyter": {
     "source_hidden": true
    },
    "tags": []
   },
   "outputs": [],
   "source": [
    "import pickle\n",
    "\n",
    "import matplotlib.pyplot as plt\n",
    "import numpy as np\n",
    "import pandas as pd\n",
    "import seaborn as sns\n",
    "\n",
    "%matplotlib inline\n",
    "\n",
    "sns.set(color_codes = True)"
   ]
  },
  {
   "cell_type": "code",
   "execution_count": 2,
   "id": "99b2510b-442c-4499-9c74-2383aed602af",
   "metadata": {
    "jupyter": {
     "source_hidden": true
    },
    "tags": []
   },
   "outputs": [],
   "source": [
    "from funcs_data import nameof, recipe, recipe_values"
   ]
  },
  {
   "cell_type": "code",
   "execution_count": 38,
   "id": "bd09eebb-1da8-4d37-8c52-355572a5871c",
   "metadata": {},
   "outputs": [],
   "source": [
    "# This cell only needs to be executed to update funcs_driver\n",
    "# and funcs_scrapping after them have been imported\n",
    "\n",
    "# %run funcs_data\n",
    "# %run funcs_driver.py\n",
    "# %run funcs_scrapping.py"
   ]
  },
  {
   "cell_type": "code",
   "execution_count": 5,
   "id": "543d2d67-ed64-4302-8092-b22cfefe551d",
   "metadata": {
    "collapsed": true,
    "jupyter": {
     "outputs_hidden": true,
     "source_hidden": true
    },
    "tags": []
   },
   "outputs": [
    {
     "data": {
      "text/html": [
       "<div>\n",
       "<style scoped>\n",
       "    .dataframe tbody tr th:only-of-type {\n",
       "        vertical-align: middle;\n",
       "    }\n",
       "\n",
       "    .dataframe tbody tr th {\n",
       "        vertical-align: top;\n",
       "    }\n",
       "\n",
       "    .dataframe thead th {\n",
       "        text-align: right;\n",
       "    }\n",
       "</style>\n",
       "<table border=\"1\" class=\"dataframe\">\n",
       "  <thead>\n",
       "    <tr style=\"text-align: right;\">\n",
       "      <th></th>\n",
       "      <th>foodname_ESP</th>\n",
       "      <th>foodname_ENG</th>\n",
       "      <th>energy</th>\n",
       "      <th>fats</th>\n",
       "      <th>prot</th>\n",
       "      <th>water</th>\n",
       "      <th>fiber</th>\n",
       "      <th>carbs</th>\n",
       "      <th>m_unsat_fats</th>\n",
       "      <th>p_unsat_fats</th>\n",
       "      <th>...</th>\n",
       "      <th>potassium</th>\n",
       "      <th>magnesium</th>\n",
       "      <th>sodium</th>\n",
       "      <th>phosphorus</th>\n",
       "      <th>iodide</th>\n",
       "      <th>selenium</th>\n",
       "      <th>zinc</th>\n",
       "      <th>unsat_fats</th>\n",
       "      <th>salt</th>\n",
       "      <th>group</th>\n",
       "    </tr>\n",
       "  </thead>\n",
       "  <tbody>\n",
       "    <tr>\n",
       "      <th>0</th>\n",
       "      <td>aceite de algodón</td>\n",
       "      <td>cotton oil</td>\n",
       "      <td>888.0</td>\n",
       "      <td>100.0</td>\n",
       "      <td>0.0</td>\n",
       "      <td>0.0</td>\n",
       "      <td>0.0</td>\n",
       "      <td>0.0</td>\n",
       "      <td>17.80</td>\n",
       "      <td>51.90</td>\n",
       "      <td>...</td>\n",
       "      <td>0.0</td>\n",
       "      <td>0.0</td>\n",
       "      <td>0.0</td>\n",
       "      <td>0.0</td>\n",
       "      <td>0.0</td>\n",
       "      <td>0.0</td>\n",
       "      <td>0.0</td>\n",
       "      <td>69.70</td>\n",
       "      <td>0.0</td>\n",
       "      <td>fats_oils</td>\n",
       "    </tr>\n",
       "    <tr>\n",
       "      <th>1</th>\n",
       "      <td>aceite de cacahuete</td>\n",
       "      <td>peanut oil</td>\n",
       "      <td>887.0</td>\n",
       "      <td>99.9</td>\n",
       "      <td>0.0</td>\n",
       "      <td>0.1</td>\n",
       "      <td>0.0</td>\n",
       "      <td>0.0</td>\n",
       "      <td>47.80</td>\n",
       "      <td>28.50</td>\n",
       "      <td>...</td>\n",
       "      <td>0.0</td>\n",
       "      <td>0.0</td>\n",
       "      <td>0.0</td>\n",
       "      <td>0.0</td>\n",
       "      <td>0.0</td>\n",
       "      <td>0.0</td>\n",
       "      <td>0.0</td>\n",
       "      <td>76.30</td>\n",
       "      <td>0.0</td>\n",
       "      <td>fats_oils</td>\n",
       "    </tr>\n",
       "    <tr>\n",
       "      <th>2</th>\n",
       "      <td>aceite de coco</td>\n",
       "      <td>coconut oil</td>\n",
       "      <td>888.0</td>\n",
       "      <td>100.0</td>\n",
       "      <td>0.0</td>\n",
       "      <td>0.0</td>\n",
       "      <td>0.0</td>\n",
       "      <td>0.0</td>\n",
       "      <td>4.96</td>\n",
       "      <td>0.77</td>\n",
       "      <td>...</td>\n",
       "      <td>0.0</td>\n",
       "      <td>0.0</td>\n",
       "      <td>0.0</td>\n",
       "      <td>0.0</td>\n",
       "      <td>0.0</td>\n",
       "      <td>0.0</td>\n",
       "      <td>0.0</td>\n",
       "      <td>5.73</td>\n",
       "      <td>0.0</td>\n",
       "      <td>fats_oils</td>\n",
       "    </tr>\n",
       "    <tr>\n",
       "      <th>3</th>\n",
       "      <td>aceite de colza</td>\n",
       "      <td>rape oil</td>\n",
       "      <td>888.0</td>\n",
       "      <td>100.0</td>\n",
       "      <td>0.0</td>\n",
       "      <td>0.0</td>\n",
       "      <td>0.0</td>\n",
       "      <td>0.0</td>\n",
       "      <td>65.30</td>\n",
       "      <td>28.01</td>\n",
       "      <td>...</td>\n",
       "      <td>0.0</td>\n",
       "      <td>0.0</td>\n",
       "      <td>0.0</td>\n",
       "      <td>0.0</td>\n",
       "      <td>0.0</td>\n",
       "      <td>0.0</td>\n",
       "      <td>0.0</td>\n",
       "      <td>93.31</td>\n",
       "      <td>0.0</td>\n",
       "      <td>fats_oils</td>\n",
       "    </tr>\n",
       "    <tr>\n",
       "      <th>4</th>\n",
       "      <td>aceite de germen de trigo</td>\n",
       "      <td>wheat germ oil</td>\n",
       "      <td>887.0</td>\n",
       "      <td>99.9</td>\n",
       "      <td>0.0</td>\n",
       "      <td>0.1</td>\n",
       "      <td>0.0</td>\n",
       "      <td>0.0</td>\n",
       "      <td>15.10</td>\n",
       "      <td>61.70</td>\n",
       "      <td>...</td>\n",
       "      <td>0.0</td>\n",
       "      <td>0.0</td>\n",
       "      <td>0.0</td>\n",
       "      <td>0.0</td>\n",
       "      <td>0.0</td>\n",
       "      <td>0.0</td>\n",
       "      <td>0.0</td>\n",
       "      <td>76.80</td>\n",
       "      <td>0.0</td>\n",
       "      <td>fats_oils</td>\n",
       "    </tr>\n",
       "  </tbody>\n",
       "</table>\n",
       "<p>5 rows × 35 columns</p>\n",
       "</div>"
      ],
      "text/plain": [
       "                foodname_ESP    foodname_ENG  energy   fats  prot  water  \\\n",
       "0          aceite de algodón      cotton oil   888.0  100.0   0.0    0.0   \n",
       "1        aceite de cacahuete      peanut oil   887.0   99.9   0.0    0.1   \n",
       "2             aceite de coco     coconut oil   888.0  100.0   0.0    0.0   \n",
       "3            aceite de colza        rape oil   888.0  100.0   0.0    0.0   \n",
       "4  aceite de germen de trigo  wheat germ oil   887.0   99.9   0.0    0.1   \n",
       "\n",
       "   fiber  carbs  m_unsat_fats  p_unsat_fats  ...  potassium  magnesium  \\\n",
       "0    0.0    0.0         17.80         51.90  ...        0.0        0.0   \n",
       "1    0.0    0.0         47.80         28.50  ...        0.0        0.0   \n",
       "2    0.0    0.0          4.96          0.77  ...        0.0        0.0   \n",
       "3    0.0    0.0         65.30         28.01  ...        0.0        0.0   \n",
       "4    0.0    0.0         15.10         61.70  ...        0.0        0.0   \n",
       "\n",
       "   sodium  phosphorus  iodide  selenium  zinc  unsat_fats  salt      group  \n",
       "0     0.0         0.0     0.0       0.0   0.0       69.70   0.0  fats_oils  \n",
       "1     0.0         0.0     0.0       0.0   0.0       76.30   0.0  fats_oils  \n",
       "2     0.0         0.0     0.0       0.0   0.0        5.73   0.0  fats_oils  \n",
       "3     0.0         0.0     0.0       0.0   0.0       93.31   0.0  fats_oils  \n",
       "4     0.0         0.0     0.0       0.0   0.0       76.80   0.0  fats_oils  \n",
       "\n",
       "[5 rows x 35 columns]"
      ]
     },
     "execution_count": 5,
     "metadata": {},
     "output_type": "execute_result"
    }
   ],
   "source": [
    "foods = pd.read_csv('./data/foods_refined.csv', index_col='Unnamed: 0')\n",
    "foods.head()"
   ]
  },
  {
   "cell_type": "code",
   "execution_count": 6,
   "id": "cc69042f-a9a2-4978-89ea-c7544e491496",
   "metadata": {
    "jupyter": {
     "source_hidden": true
    },
    "tags": []
   },
   "outputs": [
    {
     "data": {
      "text/plain": [
       "['energy',\n",
       " 'fats',\n",
       " 'prot',\n",
       " 'water',\n",
       " 'fiber',\n",
       " 'carbs',\n",
       " 'm_unsat_fats',\n",
       " 'p_unsat_fats',\n",
       " 'sat_fats',\n",
       " 'palm_acid',\n",
       " 'chol',\n",
       " 'A',\n",
       " 'D',\n",
       " 'E',\n",
       " 'B9',\n",
       " 'B3',\n",
       " 'B2',\n",
       " 'B1',\n",
       " 'B12',\n",
       " 'B6',\n",
       " 'C',\n",
       " 'calcium',\n",
       " 'iron',\n",
       " 'potassium',\n",
       " 'magnesium',\n",
       " 'sodium',\n",
       " 'phosphorus',\n",
       " 'iodide',\n",
       " 'selenium',\n",
       " 'zinc',\n",
       " 'unsat_fats',\n",
       " 'salt']"
      ]
     },
     "execution_count": 6,
     "metadata": {},
     "output_type": "execute_result"
    }
   ],
   "source": [
    "nutritional_facts = list(foods.columns[2:-1])\n",
    "nutritional_facts"
   ]
  },
  {
   "cell_type": "markdown",
   "id": "101f93f9-f701-49d6-8447-e778fe7f595f",
   "metadata": {
    "jupyter": {
     "source_hidden": true
    },
    "tags": []
   },
   "source": [
    "___\n",
    "### CREATING RECIPES"
   ]
  },
  {
   "cell_type": "markdown",
   "id": "2d1de63b",
   "metadata": {},
   "source": [
    "Let's cook a basic dish of my diet, using the official recipe that you can find in  \n",
    "[Calleja del Salmorejo Cordobés](#https://www.google.com/maps/place/Calleja+del+Salmorejo+Cordob%C3%A9s/@37.8781644,-4.7819311,15z/data=!4m5!3m4!1s0x0:0x3c4e7bc4274ecc61!8m2!3d37.8781644!4d-4.7819311), Córdoba, Spain"
   ]
  },
  {
   "cell_type": "markdown",
   "id": "a955ca3f-41bd-460b-b9f5-4dd66c50f355",
   "metadata": {
    "jupyter": {
     "source_hidden": true
    },
    "tags": []
   },
   "source": [
    "<img src=\"https://4.bp.blogspot.com/-EwcoTIrUYT0/V3-mmOFOxBI/AAAAAAAAHQA/b-Ukv-QFr682cM7E3MfTiqHoNfUc8mFHACLcB/s1600/IMG_2425.JPG\" alt=\"drawing\" width=\"300\"/>"
   ]
  },
  {
   "cell_type": "code",
   "execution_count": null,
   "id": "e54cd77d",
   "metadata": {},
   "outputs": [],
   "source": [
    "salmorejo = recipe(foods)"
   ]
  },
  {
   "cell_type": "code",
   "execution_count": 41,
   "id": "866c1404",
   "metadata": {},
   "outputs": [],
   "source": [
    "salmorejo_values = recipe_values(salmorejo, foods)"
   ]
  },
  {
   "cell_type": "code",
   "execution_count": null,
   "id": "6f4f03ea",
   "metadata": {},
   "outputs": [],
   "source": [
    "entera_con_tomate = recipe(foods)"
   ]
  },
  {
   "cell_type": "code",
   "execution_count": 44,
   "id": "14bf2f37",
   "metadata": {},
   "outputs": [],
   "source": [
    "entera_con_tomate_values = recipe_values(entera_con_tomate, foods)"
   ]
  },
  {
   "cell_type": "code",
   "execution_count": null,
   "id": "ab3bd234",
   "metadata": {},
   "outputs": [],
   "source": [
    "porridge = recipe(foods)"
   ]
  },
  {
   "cell_type": "code",
   "execution_count": 46,
   "id": "6e18831b",
   "metadata": {},
   "outputs": [],
   "source": [
    "porridge_values = recipe_values(porridge, foods)"
   ]
  },
  {
   "cell_type": "markdown",
   "id": "11a43991",
   "metadata": {},
   "source": [
    "To finish this notebook, we'll use pickle to export recipes"
   ]
  },
  {
   "cell_type": "code",
   "execution_count": 48,
   "id": "9ffce300-1cbe-4c5b-9fa7-4ad008197b26",
   "metadata": {},
   "outputs": [],
   "source": [
    "with open('./data/recipes', 'wb') as f:\n",
    "    pickle.dump(salmorejo_values, f)\n",
    "    pickle.dump(entera_con_tomate_values, f)\n",
    "    pickle.dump(porridge_values, f)"
   ]
  }
 ],
 "metadata": {
  "kernelspec": {
   "display_name": "Python 3 (ipykernel)",
   "language": "python",
   "name": "python3"
  },
  "language_info": {
   "codemirror_mode": {
    "name": "ipython",
    "version": 3
   },
   "file_extension": ".py",
   "mimetype": "text/x-python",
   "name": "python",
   "nbconvert_exporter": "python",
   "pygments_lexer": "ipython3",
   "version": "3.8.12"
  }
 },
 "nbformat": 4,
 "nbformat_minor": 5
}
