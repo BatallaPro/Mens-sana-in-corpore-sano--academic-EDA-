{
 "cells": [
  {
   "cell_type": "markdown",
   "id": "56538e6f-57f4-4b19-a721-625f4a84655c",
   "metadata": {},
   "source": [
    "# THINNER - FITTER - WISER - HEALTHIER"
   ]
  },
  {
   "cell_type": "markdown",
   "id": "180f926f-c652-4135-a9c4-7d13aceef562",
   "metadata": {},
   "source": [
    "# CREATING FOOD DATABASE\n",
    "\n",
    "We will start building our dataset scrapping the information from [BEDCA](https://www.bedca.net/bdpub/index.php) the Spanish Food Composition Database published by the Ministry of Science and Innovation and under the coordination and funding of the Spanish Agency for Food Safety and Nutrition of the Ministry of Health, Social Services and Equality.\n",
    "\n",
    "The food composition values collected in this database have been obtained from different sources that include laboratories, the food industry and scientific publications or have been calculated by the agency.\n",
    "\n",
    "Our databse will be stored in a `pandas.DataFrame`."
   ]
  },
  {
   "cell_type": "markdown",
   "id": "fda95bae-0583-4df8-a2a7-afb99fb9ee99",
   "metadata": {},
   "source": [
    "### PREREQUISITES"
   ]
  },
  {
   "cell_type": "code",
   "execution_count": null,
   "id": "ed3b356e-c850-4a38-81cc-7520d8a570f0",
   "metadata": {},
   "outputs": [],
   "source": [
    "#!pip install selenium\n",
    "#!pip install webdriver-manager"
   ]
  },
  {
   "cell_type": "markdown",
   "id": "b3056277-e60d-47d4-9dc6-cc3163b77dcf",
   "metadata": {},
   "source": [
    "### IMPORTS"
   ]
  },
  {
   "cell_type": "code",
   "execution_count": null,
   "id": "828b6782-0983-436e-b321-9e19020b86cd",
   "metadata": {},
   "outputs": [],
   "source": [
    "import numpy as np\n",
    "import pandas as pd\n",
    "\n",
    "from selenium import webdriver\n",
    "from selenium.webdriver.common.by import By\n",
    "from selenium.webdriver.common.keys import Keys\n",
    "from selenium.webdriver.firefox.service import Service\n",
    "from selenium.webdriver.support.ui import WebDriverWait  # WebDriverWait(driver, 5) # wait for the table list to load # table = WebDriverWait(driver, 10)\n",
    "from webdriver_manager.firefox import GeckoDriverManager"
   ]
  },
  {
   "cell_type": "markdown",
   "id": "5130d8ff-c277-4ec1-aa30-d4838a1f800c",
   "metadata": {},
   "source": [
    "### BUILDING THE DRIVER"
   ]
  },
  {
   "cell_type": "code",
   "execution_count": null,
   "id": "0bd237e1-bcc9-416d-a84b-732b9ad74bbc",
   "metadata": {},
   "outputs": [
    {
     "name": "stderr",
     "output_type": "stream",
     "text": [
      "\n",
      "\n",
      "====== WebDriver manager ======\n",
      "Current firefox version is 95.0\n",
      "Get LATEST geckodriver version for 95.0 firefox\n",
      "Driver [/Users/mabatalla/.wdm/drivers/geckodriver/macos/v0.30.0/geckodriver] found in cache\n"
     ]
    }
   ],
   "source": [
    "srv = Service(GeckoDriverManager().install())"
   ]
  },
  {
   "cell_type": "code",
   "execution_count": null,
   "id": "e0c09473-0482-42d5-98ba-b959e7fdcdf9",
   "metadata": {},
   "outputs": [],
   "source": [
    "driver = webdriver.Firefox(service=srv)\n",
    "driver.maximize_window()"
   ]
  },
  {
   "cell_type": "markdown",
   "id": "4af3fba9-13ae-4818-b01d-ca690975b514",
   "metadata": {},
   "source": [
    "### NAVIGATING TO THE DATA"
   ]
  },
  {
   "cell_type": "code",
   "execution_count": null,
   "id": "f72d66a4-d301-4dde-b216-d77161bdd352",
   "metadata": {},
   "outputs": [],
   "source": [
    "# Access website\n",
    "url = 'https://www.bedca.net/bdpub/index.php'\n",
    "driver.get(url)\n",
    "WebDriverWait(driver, 5)\n",
    "\n",
    "# Access database\n",
    "driver.find_element(By.ID, 'navigation').find_element(By.LINK_TEXT, 'Consulta').click()\n",
    "WebDriverWait(driver, 5)\n",
    "\n",
    "# Show items alphabetically ordered\n",
    "driver.find_element(By.ID, 'Alfabetica').click()\n",
    "WebDriverWait(driver, 5)\n",
    "\n",
    "# Access all items\n",
    "driver.find_element(By.LINK_TEXT, 'Todos').click()"
   ]
  },
  {
   "cell_type": "markdown",
   "id": "0168ac6f-cee9-424e-b987-c81811a58f49",
   "metadata": {
    "tags": []
   },
   "source": [
    "### ACCESSING A SINGLE ITEM INFO"
   ]
  },
  {
   "cell_type": "code",
   "execution_count": null,
   "id": "98d275f9-81ba-456d-a7ed-62423d976d00",
   "metadata": {},
   "outputs": [],
   "source": [
    "# The table is made of row-a and row-b classes, let's put them into a list\n",
    "get_row_a = driver.find_elements(By.CLASS_NAME, 'row-a')\n",
    "get_row_b = driver.find_elements(By.CLASS_NAME, 'row-b')"
   ]
  },
  {
   "cell_type": "code",
   "execution_count": null,
   "id": "3dd84647-137f-4dc0-b69a-a69233d54d29",
   "metadata": {},
   "outputs": [],
   "source": [
    "# Now let's unify both lists\n",
    "foodindex = zip(get_row_a, get_row_b)"
   ]
  },
  {
   "cell_type": "code",
   "execution_count": null,
   "id": "ca3e82c0-bdb1-4d25-9eef-a074f49d4a21",
   "metadata": {},
   "outputs": [
    {
     "name": "stdout",
     "output_type": "stream",
     "text": [
      "84\n",
      "84\n"
     ]
    }
   ],
   "source": [
    "# Checkpoint - The dataset has 968 entries\n",
    "\n",
    "print(len(get_row_a) + len(get_row_b))\n",
    "\n",
    "entries = sum(2 for i in foodindex)  # This zip object is made of 2-elements tuples\n",
    "print(entries)                       # one element from get_row_a and one from get_row_b\n",
    "                                     # that's why I add 2 for each element in foodindex"
   ]
  },
  {
   "cell_type": "code",
   "execution_count": null,
   "id": "822ee38e-bf8a-4eba-8269-0c6492883c2a",
   "metadata": {},
   "outputs": [],
   "source": [
    "# Access one item ('Arroz con leche')\n",
    "# To find item index\n",
    "foodname = []\n",
    "\n",
    "for product_a, product_b in foodindex:\n",
    "    foodname.append(product_a.find_element(By.ID, 'foodname').text)\n",
    "    foodname.append(product_b.find_element(By.ID, 'foodname').text)"
   ]
  },
  {
   "cell_type": "code",
   "execution_count": null,
   "id": "b0860c23-348c-4c70-902d-6984c296e4f8",
   "metadata": {},
   "outputs": [
    {
     "data": {
      "text/plain": [
       "65"
      ]
     },
     "execution_count": 171,
     "metadata": {},
     "output_type": "execute_result"
    }
   ],
   "source": [
    "foodname.index('Arroz con leche')"
   ]
  },
  {
   "cell_type": "code",
   "execution_count": null,
   "id": "12be8c88-ae80-494f-a34f-cd7a7d561281",
   "metadata": {},
   "outputs": [
    {
     "name": "stdout",
     "output_type": "stream",
     "text": [
      "Arroz con leche\n"
     ]
    }
   ],
   "source": [
    "# Index 65 in foodindex matches with 32 index in row-b (65 // 2)\n",
    "# 0,  1,  2,  3,  4,  5  ...\n",
    "# a0, b0, a1, b1, a2, b2 ...\n",
    "\n",
    "# Checkpoint - Accesing the correct product\n",
    "print(driver.find_elements(By.CLASS_NAME, 'row-b')[32].find_element(By.ID, 'foodname').find_element(By.TAG_NAME, 'a').text)"
   ]
  },
  {
   "cell_type": "code",
   "execution_count": null,
   "id": "840bd587-0a71-4ba0-a563-2174d07a5dd7",
   "metadata": {},
   "outputs": [],
   "source": [
    "get_row_b[32].find_element(By.TAG_NAME, 'a').click()"
   ]
  },
  {
   "cell_type": "markdown",
   "id": "616704b0-afa8-4624-868b-061440e258b6",
   "metadata": {},
   "source": [
    "Now, lets take a look to all available info:\n",
    "\n",
    "[IMG]\n",
    "\n",
    "The relevant info for us is inside id='content2':\n",
    "* Go back\n",
    "___\n",
    "* Basic info\n",
    "    * Foodname (ESP)\n",
    "    * Foodname (ENG)\n",
    "    * Quantity measured\n",
    "___\n",
    "* Macros:\n",
    "    * Energy, Carbs, Prot, Fats\n",
    "* Complementary:\n",
    "    * Water (humidity), Fiber, Saturated fats, Unsaturated fats\n",
    "* Flags:\n",
    "    * Palmitic acid (present), Salt (>1), Energy (>275), Cabrs (>10)\n",
    "* Minerals:\n",
    "    * Calcium, iron, potassium, magnesium, sodium, phosphorus, iodide, selenium, zinc\n",
    "* Vitamnins:\n",
    "    * A, B1 (Thiamine), B2 (riboflavin), B3 (niacin), B6, B9 (folic acid), B12, C (ascorbic acid), D, E"
   ]
  },
  {
   "cell_type": "code",
   "execution_count": null,
   "id": "a37c3e03-08f1-4998-add2-67957437a455",
   "metadata": {},
   "outputs": [
    {
     "name": "stdout",
     "output_type": "stream",
     "text": [
      "Arroz con leche\n",
      "Distribución de la Energía total\n",
      "Información de composición (por 100 g de porción comestible)\n",
      "Listado anterior\n",
      "\n",
      "English name: Rice with milk\n",
      "Nombre científico:\n",
      "Código foodex: A041E - A03VA (Composite dishes) - A03VB (Dishes, incl. Ready to eat meals (excluding soups and salads))\n",
      "Parte comestible (%): 100\n",
      "Descripción:\n",
      "Listado anterior\n",
      "A03VA\n",
      "A03VB (Dishes, incl. Ready to eat meals (excluding soups and salads))\n"
     ]
    }
   ],
   "source": [
    "# Checking texts found\n",
    "h4 = driver.find_element(By.ID, 'content2').find_elements(By.CSS_SELECTOR, 'h4')\n",
    "p = driver.find_element(By.ID, 'content2').find_elements(By.CSS_SELECTOR, 'p')\n",
    "span = driver.find_element(By.ID, 'content2').find_elements(By.TAG_NAME, 'span')\n",
    "\n",
    "for text in range(len(h4)): print(h4[text].text)\n",
    "\n",
    "for text in range(len(p)): print(p[text].text)\n",
    "\n",
    "for text in range(len(span)): print(span[text].text)"
   ]
  },
  {
   "cell_type": "code",
   "execution_count": 12,
   "id": "3ae29d86-dcf8-444c-b037-0845f2f91df7",
   "metadata": {
    "collapsed": true,
    "jupyter": {
     "outputs_hidden": true
    },
    "tags": []
   },
   "outputs": [
    {
     "name": "stdout",
     "output_type": "stream",
     "text": [
      "English name: Rice with milk\n",
      "Nombre científico:\n",
      "Código foodex: A041E - A03VA (Composite dishes) - A03VB (Dishes, incl. Ready to eat meals (excluding soups and salads))\n",
      "Parte comestible (%): 100\n",
      "Descripción:\n",
      "\n",
      "Componente Valor Unidad Fuente\n",
      "Proximales\n",
      "alcohol (etanol) 0 g 38\n",
      "energía, total 383 (92) kJ (kcal) 236\n",
      "grasa, total (lipidos totales) 1.3 g 38\n",
      "proteina, total 3.3 g 38\n",
      "agua (humedad) 78.9 g 38\n",
      "Hidratos de Carbono\n",
      "fibra, dietetica total 0.1 g 38\n",
      "carbohidratos 16.4 g 38\n",
      "Grasas\n",
      "ácido graso 22:6 n-3 (ácido docosahexaenóico) - - -\n",
      "ácidos grasos, monoinsaturados totales 0.31 g 38\n",
      "ácidos grasos, poliinsaturados totales 0.08 g 38\n",
      "ácidos grasos saturados totales 0.77 g 38\n",
      "ácido graso 12:0 (láurico) - - -\n",
      "ácido graso 14:0 (ácido mirístico) - - -\n",
      "ácido graso 16:0 (ácido palmítico) - - -\n",
      "ácido graso 18:0 (ácido esteárico) - - -\n",
      "ácido graso 18:1 n-9 cis (ácido oléico) - - -\n",
      "colesterol 9 mg 38\n",
      "ácido graso 18:2 - - -\n",
      "ácido graso 18:3 - - -\n",
      "ácido graso 20:4 n-6 (ácido araquidónico) - - -\n",
      "ácido graso 20:5 (ácido eicosapentaenóico) - - -\n",
      "Vitaminas\n",
      "Vitamina A equivalentes de retinol de actividades de retinos y carotenoides 18 ug 38\n",
      "Vitamina D 0.1 ug 38\n",
      "Viamina E equivalentes de alfa tocoferol de actividades de vitámeros E 0.15 mg 38\n",
      "folato, total 5 ug 38\n",
      "equivalentes de niacina, totales 0.81 mg 38\n",
      "riboflavina 0.13 mg 38\n",
      "tiamina 0.04 mg 38\n",
      "Vitamina B-12 0.24 ug 38\n",
      "Vitamina B-6, Total 0.09 mg 38\n",
      "Vitamina C (ácido ascórbico) 0 mg 38\n",
      "Minerales\n",
      "calcio 109 mg 38\n",
      "hierro, total 0.2 mg 38\n",
      "potasio 138 mg 38\n",
      "magnesio 14 mg 38\n",
      "sodio 38 mg 38\n",
      "fósforo 96 mg 38\n",
      "ioduro 6.3 ug 38\n",
      "selenio, total 1.9 ug 38\n",
      "zinc (cinc) 0.3 mg 38\n"
     ]
    }
   ],
   "source": [
    "# Checking tables found\n",
    "table = driver.find_element(By.ID, 'content2').find_elements(By.CSS_SELECTOR, 'table')\n",
    "\n",
    "print(table[0].text)\n",
    "\n",
    "print(table[1].text)\n",
    "\n",
    "print(table[2].text)"
   ]
  },
  {
   "cell_type": "markdown",
   "id": "f8d37096-a684-4543-90ca-37c6dc8798e6",
   "metadata": {},
   "source": [
    "Lets get the relevant elements"
   ]
  },
  {
   "cell_type": "code",
   "execution_count": 21,
   "id": "9d59bf1a-3494-4e23-9317-e98f213e6918",
   "metadata": {
    "tags": []
   },
   "outputs": [],
   "source": [
    "# Go back\n",
    "back = driver.find_element(By.ID, 'Todos')\n",
    "\n",
    "back.click()"
   ]
  },
  {
   "cell_type": "markdown",
   "id": "b42c3079-ee41-4e48-911f-41933c7da3c2",
   "metadata": {},
   "source": [
    "Lets get the relevant info"
   ]
  },
  {
   "cell_type": "code",
   "execution_count": 113,
   "id": "ce59f57a-b73a-4e4c-a3f6-e1ecb2f41761",
   "metadata": {},
   "outputs": [
    {
     "data": {
      "text/plain": [
       "{'foodname_ESP': 'Arroz con leche',\n",
       " 'foodname_ENG': 'Rice with milk',\n",
       " 'quantity': 100.0}"
      ]
     },
     "execution_count": 113,
     "metadata": {},
     "output_type": "execute_result"
    }
   ],
   "source": [
    "# General info\n",
    "\n",
    "foodname_ESP = driver.find_element(By.ID, 'content2').find_elements(By.CSS_SELECTOR, 'h4')[0].text\n",
    "foodname_ENG = driver.find_element(By.ID, 'content2').find_elements(By.CSS_SELECTOR, 'p')[2].text[14:]\n",
    "quantity = driver.find_element(By.ID, 'content2').find_elements(By.CSS_SELECTOR, 'h4')[2].text[32:][:-25]\n",
    "\n",
    "\n",
    "general_info = {'foodname_ESP': foodname_ESP, 'foodname_ENG': foodname_ENG, 'quantity': float(quantity)}\n",
    "\n",
    "general_info"
   ]
  },
  {
   "cell_type": "code",
   "execution_count": 14,
   "id": "c583f434-3efb-4d72-9016-1cf86fcebd65",
   "metadata": {
    "tags": []
   },
   "outputs": [
    {
     "data": {
      "text/plain": [
       "['Componente Valor Unidad Fuente',\n",
       " 'Proximales',\n",
       " 'alcohol (etanol) 0 g 38',\n",
       " 'energía, total 383 (92) kJ (kcal) 236',\n",
       " 'grasa, total (lipidos totales) 1.3 g 38',\n",
       " 'proteina, total 3.3 g 38',\n",
       " 'agua (humedad) 78.9 g 38',\n",
       " 'Hidratos de Carbono',\n",
       " 'fibra, dietetica total 0.1 g 38',\n",
       " 'carbohidratos 16.4 g 38',\n",
       " 'Grasas',\n",
       " 'ácido graso 22:6 n-3 (ácido docosahexaenóico) - - -',\n",
       " 'ácidos grasos, monoinsaturados totales 0.31 g 38',\n",
       " 'ácidos grasos, poliinsaturados totales 0.08 g 38',\n",
       " 'ácidos grasos saturados totales 0.77 g 38',\n",
       " 'ácido graso 12:0 (láurico) - - -',\n",
       " 'ácido graso 14:0 (ácido mirístico) - - -',\n",
       " 'ácido graso 16:0 (ácido palmítico) - - -',\n",
       " 'ácido graso 18:0 (ácido esteárico) - - -',\n",
       " 'ácido graso 18:1 n-9 cis (ácido oléico) - - -',\n",
       " 'colesterol 9 mg 38',\n",
       " 'ácido graso 18:2 - - -',\n",
       " 'ácido graso 18:3 - - -',\n",
       " 'ácido graso 20:4 n-6 (ácido araquidónico) - - -',\n",
       " 'ácido graso 20:5 (ácido eicosapentaenóico) - - -',\n",
       " 'Vitaminas',\n",
       " 'Vitamina A equivalentes de retinol de actividades de retinos y carotenoides 18 ug 38',\n",
       " 'Vitamina D 0.1 ug 38',\n",
       " 'Viamina E equivalentes de alfa tocoferol de actividades de vitámeros E 0.15 mg 38',\n",
       " 'folato, total 5 ug 38',\n",
       " 'equivalentes de niacina, totales 0.81 mg 38',\n",
       " 'riboflavina 0.13 mg 38',\n",
       " 'tiamina 0.04 mg 38',\n",
       " 'Vitamina B-12 0.24 ug 38',\n",
       " 'Vitamina B-6, Total 0.09 mg 38',\n",
       " 'Vitamina C (ácido ascórbico) 0 mg 38',\n",
       " 'Minerales',\n",
       " 'calcio 109 mg 38',\n",
       " 'hierro, total 0.2 mg 38',\n",
       " 'potasio 138 mg 38',\n",
       " 'magnesio 14 mg 38',\n",
       " 'sodio 38 mg 38',\n",
       " 'fósforo 96 mg 38',\n",
       " 'ioduro 6.3 ug 38',\n",
       " 'selenio, total 1.9 ug 38',\n",
       " 'zinc (cinc) 0.3 mg 38']"
      ]
     },
     "execution_count": 14,
     "metadata": {},
     "output_type": "execute_result"
    }
   ],
   "source": [
    "# Table items\n",
    "nutritional_facts = table[2].text.splitlines()\n",
    "\n",
    "nutritional_facts"
   ]
  },
  {
   "cell_type": "code",
   "execution_count": 15,
   "id": "2305a5a7-fba6-4cac-a8a7-511d815b1955",
   "metadata": {
    "tags": []
   },
   "outputs": [],
   "source": [
    "# Get relevant facts indexes\n",
    "relevant_facts = [#'Componente Valor Unidad Fuente',\n",
    "                  #'Proximales',\n",
    "                  #'alcohol (etanol) 0 g 38',\n",
    "                  'energía, total 383 (92) kJ (kcal) 236',\n",
    "                  'grasa, total (lipidos totales) 1.3 g 38',\n",
    "                  'proteina, total 3.3 g 38',\n",
    "                  'agua (humedad) 78.9 g 38',\n",
    "                  #'Hidratos de Carbono',\n",
    "                  'fibra, dietetica total 0.1 g 38',\n",
    "                  'carbohidratos 16.4 g 38',\n",
    "                  #'Grasas',\n",
    "                  #'ácido graso 22:6 n-3 (ácido docosahexaenóico) - - -',\n",
    "                  'ácidos grasos, monoinsaturados totales 0.31 g 38',\n",
    "                  'ácidos grasos, poliinsaturados totales 0.08 g 38',\n",
    "                  'ácidos grasos saturados totales 0.77 g 38',\n",
    "                  #'ácido graso 12:0 (láurico) - - -',\n",
    "                  #'ácido graso 14:0 (ácido mirístico) - - -',\n",
    "                  'ácido graso 16:0 (ácido palmítico) - - -',\n",
    "                  #'ácido graso 18:0 (ácido esteárico) - - -',\n",
    "                  #'ácido graso 18:1 n-9 cis (ácido oléico) - - -',\n",
    "                  #'colesterol 9 mg 38',\n",
    "                  #'ácido graso 18:2 - - -',\n",
    "                  #'ácido graso 18:3 - - -',\n",
    "                  #'ácido graso 20:4 n-6 (ácido araquidónico) - - -',\n",
    "                  #'ácido graso 20:5 (ácido eicosapentaenóico) - - -',\n",
    "                  #'Vitaminas',\n",
    "                  'Vitamina A equivalentes de retinol de actividades de retinos y carotenoides 18 ug 38',\n",
    "                  'Vitamina D 0.1 ug 38',\n",
    "                  'Viamina E equivalentes de alfa tocoferol de actividades de vitámeros E 0.15 mg 38',\n",
    "                  'folato, total 5 ug 38',\n",
    "                  'equivalentes de niacina, totales 0.81 mg 38',\n",
    "                  'riboflavina 0.13 mg 38',\n",
    "                  'tiamina 0.04 mg 38',\n",
    "                  'Vitamina B-12 0.24 ug 38',\n",
    "                  'Vitamina B-6, Total 0.09 mg 38',\n",
    "                  'Vitamina C (ácido ascórbico) 0 mg 38',\n",
    "                  #'Minerales',\n",
    "                  'calcio 109 mg 38',\n",
    "                  'hierro, total 0.2 mg 38',\n",
    "                  'potasio 138 mg 38',\n",
    "                  'magnesio 14 mg 38',\n",
    "                  'sodio 38 mg 38',\n",
    "                  'fósforo 96 mg 38',\n",
    "                  'ioduro 6.3 ug 38',\n",
    "                  'selenio, total 1.9 ug 38',\n",
    "                  'zinc (cinc) 0.3 mg 38']\n",
    "\n",
    "relevant_facts_ind = []\n",
    "\n",
    "for fact in relevant_facts:\n",
    "    relevant_facts_ind.append(int(nutritional_facts.index(fact)))"
   ]
  },
  {
   "cell_type": "code",
   "execution_count": 16,
   "id": "fee965aa-a696-45aa-960c-a44396262e5a",
   "metadata": {
    "tags": []
   },
   "outputs": [
    {
     "name": "stdout",
     "output_type": "stream",
     "text": [
      "3 - energía, total 383 (92) kJ (kcal) 236\n",
      "4 - grasa, total (lipidos totales) 1.3 g 38\n",
      "5 - proteina, total 3.3 g 38\n",
      "6 - agua (humedad) 78.9 g 38\n",
      "8 - fibra, dietetica total 0.1 g 38\n",
      "9 - carbohidratos 16.4 g 38\n",
      "12 - ácidos grasos, monoinsaturados totales 0.31 g 38\n",
      "13 - ácidos grasos, poliinsaturados totales 0.08 g 38\n",
      "14 - ácidos grasos saturados totales 0.77 g 38\n",
      "17 - ácido graso 16:0 (ácido palmítico) - - -\n",
      "26 - Vitamina A equivalentes de retinol de actividades de retinos y carotenoides 18 ug 38\n",
      "27 - Vitamina D 0.1 ug 38\n",
      "28 - Viamina E equivalentes de alfa tocoferol de actividades de vitámeros E 0.15 mg 38\n",
      "29 - folato, total 5 ug 38\n",
      "30 - equivalentes de niacina, totales 0.81 mg 38\n",
      "31 - riboflavina 0.13 mg 38\n",
      "32 - tiamina 0.04 mg 38\n",
      "33 - Vitamina B-12 0.24 ug 38\n",
      "34 - Vitamina B-6, Total 0.09 mg 38\n",
      "35 - Vitamina C (ácido ascórbico) 0 mg 38\n",
      "37 - calcio 109 mg 38\n",
      "38 - hierro, total 0.2 mg 38\n",
      "39 - potasio 138 mg 38\n",
      "40 - magnesio 14 mg 38\n",
      "41 - sodio 38 mg 38\n",
      "42 - fósforo 96 mg 38\n",
      "43 - ioduro 6.3 ug 38\n",
      "44 - selenio, total 1.9 ug 38\n",
      "45 - zinc (cinc) 0.3 mg 38\n"
     ]
    }
   ],
   "source": [
    "# Checkpoint - Show each fact with its corresponding index\n",
    "for i in relevant_facts_ind:\n",
    "    print(i, nutritional_facts[i], sep=' - ')"
   ]
  },
  {
   "cell_type": "code",
   "execution_count": 90,
   "id": "b7d46ee0-2d29-42f6-991c-4f3d6895aea8",
   "metadata": {},
   "outputs": [],
   "source": [
    "# Rename the relevant facts dropping non relevant\n",
    "relevant_facts = ['energy',\n",
    "                  'fats',\n",
    "                  'prot',\n",
    "                  'water',\n",
    "                  'fiber',\n",
    "                  'carbs',\n",
    "                  'm_insat_fats',\n",
    "                  'p_insat_fats',\n",
    "                  'sat_fats',\n",
    "                  'palm_acid',\n",
    "                  'A',\n",
    "                  'D',\n",
    "                  'E',\n",
    "                  'B9',\n",
    "                  'B3',\n",
    "                  'B2',\n",
    "                  'B1',\n",
    "                  'B12',\n",
    "                  'B6',\n",
    "                  'C',\n",
    "                  'calcium',\n",
    "                  'iron',\n",
    "                  'potassium',\n",
    "                  'magnesium',\n",
    "                  'sodium',\n",
    "                  'phosphorus',\n",
    "                  'iodide',\n",
    "                  'selenium',\n",
    "                  'zinc']"
   ]
  },
  {
   "cell_type": "code",
   "execution_count": null,
   "id": "82cab8d0-7f9c-4333-919d-d5feeffbc163",
   "metadata": {},
   "outputs": [
    {
     "data": {
      "text/plain": [
       "{'energy': 'composite',\n",
       " 'fats': 1.3,\n",
       " 'prot': 3.3,\n",
       " 'water': 78.9,\n",
       " 'fiber': 0.1,\n",
       " 'carbs': 16.4,\n",
       " 'm_insat_fats': 0.31,\n",
       " 'p_insat_fats': 0.08,\n",
       " 'sat_fats': 0.77,\n",
       " 'palm_acid': 'composite',\n",
       " 'A': 18.0,\n",
       " 'D': 0.1,\n",
       " 'E': 0.15,\n",
       " 'B9': 5.0,\n",
       " 'B3': 0.81,\n",
       " 'B2': 0.13,\n",
       " 'B1': 0.04,\n",
       " 'B12': 0.24,\n",
       " 'B6': 0.09,\n",
       " 'C': 0.0,\n",
       " 'calcium': 109.0,\n",
       " 'iron': 0.2,\n",
       " 'potassium': 138.0,\n",
       " 'magnesium': 14.0,\n",
       " 'sodium': 38.0,\n",
       " 'phosphorus': 96.0,\n",
       " 'iodide': 6.3,\n",
       " 'selenium': 1.9,\n",
       " 'zinc': 0.3}"
      ]
     },
     "execution_count": 100,
     "metadata": {},
     "output_type": "execute_result"
    }
   ],
   "source": [
    "# Create a dict with facts as keys and index as values\n",
    "facts = dict(zip(relevant_facts, relevant_facts_ind))\n",
    "\n",
    "# Substitute indexes for scraped value\n",
    "# Use 'composite' as value in case there is an error, this\n",
    "# values need further transformation\n",
    "for fact in facts:\n",
    "    try:\n",
    "        facts[fact] = float(nutritional_facts[facts.get(fact)].split()[-3])\n",
    "    except:\n",
    "        facts[fact] = 'composite'\n",
    "\n",
    "facts"
   ]
  },
  {
   "cell_type": "code",
   "execution_count": 101,
   "id": "b6426cdf-3a93-46af-9726-96039276c349",
   "metadata": {
    "tags": []
   },
   "outputs": [
    {
     "data": {
      "text/plain": [
       "{'energy': 92.0,\n",
       " 'fats': 1.3,\n",
       " 'prot': 3.3,\n",
       " 'water': 78.9,\n",
       " 'fiber': 0.1,\n",
       " 'carbs': 16.4,\n",
       " 'p_insat_fats': 0.08,\n",
       " 'sat_fats': 0.77,\n",
       " 'palm_acid': False,\n",
       " 'A': 18.0,\n",
       " 'D': 0.1,\n",
       " 'E': 0.15,\n",
       " 'B9': 5.0,\n",
       " 'B3': 0.81,\n",
       " 'B2': 0.13,\n",
       " 'B1': 0.04,\n",
       " 'B12': 0.24,\n",
       " 'B6': 0.09,\n",
       " 'C': 0.0,\n",
       " 'calcium': 109.0,\n",
       " 'iron': 0.2,\n",
       " 'potassium': 138.0,\n",
       " 'magnesium': 14.0,\n",
       " 'sodium': 38.0,\n",
       " 'phosphorus': 96.0,\n",
       " 'iodide': 6.3,\n",
       " 'selenium': 1.9,\n",
       " 'zinc': 0.3,\n",
       " 'unsat_fats': 0.39,\n",
       " 'salt': 'composite',\n",
       " 'high_energy': 'composite',\n",
       " 'high_carbs': 'composite',\n",
       " 'high_fats': 'composite',\n",
       " 'quantity': '100'}"
      ]
     },
     "execution_count": 101,
     "metadata": {},
     "output_type": "execute_result"
    }
   ],
   "source": [
    "# Transformation of some composite facts\n",
    "facts['energy'] = float(nutritional_facts[3].split(' ')[3][1:-1])\n",
    "\n",
    "facts['unsat_fats'] = float(nutritional_facts[12].split()[-3]) + float(nutritional_facts[13].split()[-3])\n",
    "facts.pop('m_insat_fats', 'p_insat_fats')\n",
    "\n",
    "palm_acid = nutritional_facts[17].split()[-3]\n",
    "if palm_acid == '-':\n",
    "    facts['palm_acid'] = False\n",
    "else:\n",
    "    facts['palm_acid'] = True\n",
    "\n",
    "# Generating other composite facts that will be used later\n",
    "facts['salt'] = 'composite'\n",
    "facts['high_energy'] = 'composite'\n",
    "facts['high_carbs'] = 'composite'\n",
    "facts['high_fats'] = 'composite'\n",
    "facts['quantity'] = quantity\n",
    "    \n",
    "facts"
   ]
  },
  {
   "cell_type": "code",
   "execution_count": 125,
   "id": "0b84dbac-1aff-41a0-a89b-b7f69f31b741",
   "metadata": {},
   "outputs": [
    {
     "data": {
      "text/plain": [
       "foodname_ESP    Arroz con leche\n",
       "foodname_ENG     Rice with milk\n",
       "quantity                    100\n",
       "energy                     92.0\n",
       "fats                        1.3\n",
       "prot                        3.3\n",
       "water                      78.9\n",
       "fiber                       0.1\n",
       "carbs                      16.4\n",
       "p_insat_fats               0.08\n",
       "sat_fats                   0.77\n",
       "palm_acid                 False\n",
       "A                          18.0\n",
       "D                           0.1\n",
       "E                          0.15\n",
       "B9                          5.0\n",
       "B3                         0.81\n",
       "B2                         0.13\n",
       "B1                         0.04\n",
       "B12                        0.24\n",
       "B6                         0.09\n",
       "C                           0.0\n",
       "calcium                   109.0\n",
       "iron                        0.2\n",
       "potassium                 138.0\n",
       "magnesium                  14.0\n",
       "sodium                     38.0\n",
       "phosphorus                 96.0\n",
       "iodide                      6.3\n",
       "selenium                    1.9\n",
       "zinc                        0.3\n",
       "unsat_fats                 0.39\n",
       "salt                  composite\n",
       "high_energy           composite\n",
       "high_carbs            composite\n",
       "high_fats             composite\n",
       "dtype: object"
      ]
     },
     "execution_count": 125,
     "metadata": {},
     "output_type": "execute_result"
    }
   ],
   "source": [
    "item = pd.Series({**general_info, **facts})\n",
    "\n",
    "item"
   ]
  },
  {
   "cell_type": "code",
   "execution_count": 147,
   "id": "bc7c8268-f16e-401d-96e4-9897a5fc7d14",
   "metadata": {},
   "outputs": [
    {
     "data": {
      "text/html": [
       "<div>\n",
       "<style scoped>\n",
       "    .dataframe tbody tr th:only-of-type {\n",
       "        vertical-align: middle;\n",
       "    }\n",
       "\n",
       "    .dataframe tbody tr th {\n",
       "        vertical-align: top;\n",
       "    }\n",
       "\n",
       "    .dataframe thead th {\n",
       "        text-align: right;\n",
       "    }\n",
       "</style>\n",
       "<table border=\"1\" class=\"dataframe\">\n",
       "  <thead>\n",
       "    <tr style=\"text-align: right;\">\n",
       "      <th></th>\n",
       "      <th>0</th>\n",
       "    </tr>\n",
       "  </thead>\n",
       "  <tbody>\n",
       "    <tr>\n",
       "      <th>foodname_ESP</th>\n",
       "      <td>Arroz con leche</td>\n",
       "    </tr>\n",
       "    <tr>\n",
       "      <th>foodname_ENG</th>\n",
       "      <td>Rice with milk</td>\n",
       "    </tr>\n",
       "    <tr>\n",
       "      <th>quantity</th>\n",
       "      <td>100</td>\n",
       "    </tr>\n",
       "    <tr>\n",
       "      <th>energy</th>\n",
       "      <td>92.0</td>\n",
       "    </tr>\n",
       "    <tr>\n",
       "      <th>fats</th>\n",
       "      <td>1.3</td>\n",
       "    </tr>\n",
       "    <tr>\n",
       "      <th>prot</th>\n",
       "      <td>3.3</td>\n",
       "    </tr>\n",
       "    <tr>\n",
       "      <th>water</th>\n",
       "      <td>78.9</td>\n",
       "    </tr>\n",
       "    <tr>\n",
       "      <th>fiber</th>\n",
       "      <td>0.1</td>\n",
       "    </tr>\n",
       "    <tr>\n",
       "      <th>carbs</th>\n",
       "      <td>16.4</td>\n",
       "    </tr>\n",
       "    <tr>\n",
       "      <th>p_insat_fats</th>\n",
       "      <td>0.08</td>\n",
       "    </tr>\n",
       "    <tr>\n",
       "      <th>sat_fats</th>\n",
       "      <td>0.77</td>\n",
       "    </tr>\n",
       "    <tr>\n",
       "      <th>palm_acid</th>\n",
       "      <td>False</td>\n",
       "    </tr>\n",
       "    <tr>\n",
       "      <th>A</th>\n",
       "      <td>18.0</td>\n",
       "    </tr>\n",
       "    <tr>\n",
       "      <th>D</th>\n",
       "      <td>0.1</td>\n",
       "    </tr>\n",
       "    <tr>\n",
       "      <th>E</th>\n",
       "      <td>0.15</td>\n",
       "    </tr>\n",
       "    <tr>\n",
       "      <th>B9</th>\n",
       "      <td>5.0</td>\n",
       "    </tr>\n",
       "    <tr>\n",
       "      <th>B3</th>\n",
       "      <td>0.81</td>\n",
       "    </tr>\n",
       "    <tr>\n",
       "      <th>B2</th>\n",
       "      <td>0.13</td>\n",
       "    </tr>\n",
       "    <tr>\n",
       "      <th>B1</th>\n",
       "      <td>0.04</td>\n",
       "    </tr>\n",
       "    <tr>\n",
       "      <th>B12</th>\n",
       "      <td>0.24</td>\n",
       "    </tr>\n",
       "    <tr>\n",
       "      <th>B6</th>\n",
       "      <td>0.09</td>\n",
       "    </tr>\n",
       "    <tr>\n",
       "      <th>C</th>\n",
       "      <td>0.0</td>\n",
       "    </tr>\n",
       "    <tr>\n",
       "      <th>calcium</th>\n",
       "      <td>109.0</td>\n",
       "    </tr>\n",
       "    <tr>\n",
       "      <th>iron</th>\n",
       "      <td>0.2</td>\n",
       "    </tr>\n",
       "    <tr>\n",
       "      <th>potassium</th>\n",
       "      <td>138.0</td>\n",
       "    </tr>\n",
       "    <tr>\n",
       "      <th>magnesium</th>\n",
       "      <td>14.0</td>\n",
       "    </tr>\n",
       "    <tr>\n",
       "      <th>sodium</th>\n",
       "      <td>38.0</td>\n",
       "    </tr>\n",
       "    <tr>\n",
       "      <th>phosphorus</th>\n",
       "      <td>96.0</td>\n",
       "    </tr>\n",
       "    <tr>\n",
       "      <th>iodide</th>\n",
       "      <td>6.3</td>\n",
       "    </tr>\n",
       "    <tr>\n",
       "      <th>selenium</th>\n",
       "      <td>1.9</td>\n",
       "    </tr>\n",
       "    <tr>\n",
       "      <th>zinc</th>\n",
       "      <td>0.3</td>\n",
       "    </tr>\n",
       "    <tr>\n",
       "      <th>unsat_fats</th>\n",
       "      <td>0.39</td>\n",
       "    </tr>\n",
       "    <tr>\n",
       "      <th>salt</th>\n",
       "      <td>composite</td>\n",
       "    </tr>\n",
       "    <tr>\n",
       "      <th>high_energy</th>\n",
       "      <td>composite</td>\n",
       "    </tr>\n",
       "    <tr>\n",
       "      <th>high_carbs</th>\n",
       "      <td>composite</td>\n",
       "    </tr>\n",
       "    <tr>\n",
       "      <th>high_fats</th>\n",
       "      <td>composite</td>\n",
       "    </tr>\n",
       "  </tbody>\n",
       "</table>\n",
       "</div>"
      ],
      "text/plain": [
       "                            0\n",
       "foodname_ESP  Arroz con leche\n",
       "foodname_ENG   Rice with milk\n",
       "quantity                  100\n",
       "energy                   92.0\n",
       "fats                      1.3\n",
       "prot                      3.3\n",
       "water                    78.9\n",
       "fiber                     0.1\n",
       "carbs                    16.4\n",
       "p_insat_fats             0.08\n",
       "sat_fats                 0.77\n",
       "palm_acid               False\n",
       "A                        18.0\n",
       "D                         0.1\n",
       "E                        0.15\n",
       "B9                        5.0\n",
       "B3                       0.81\n",
       "B2                       0.13\n",
       "B1                       0.04\n",
       "B12                      0.24\n",
       "B6                       0.09\n",
       "C                         0.0\n",
       "calcium                 109.0\n",
       "iron                      0.2\n",
       "potassium               138.0\n",
       "magnesium                14.0\n",
       "sodium                   38.0\n",
       "phosphorus               96.0\n",
       "iodide                    6.3\n",
       "selenium                  1.9\n",
       "zinc                      0.3\n",
       "unsat_fats               0.39\n",
       "salt                composite\n",
       "high_energy         composite\n",
       "high_carbs          composite\n",
       "high_fats           composite"
      ]
     },
     "execution_count": 147,
     "metadata": {},
     "output_type": "execute_result"
    }
   ],
   "source": [
    "fut = pd.DataFrame(item)\n",
    "#fut = fut.T\n",
    "\n",
    "fut"
   ]
  },
  {
   "cell_type": "code",
   "execution_count": 149,
   "id": "3db9896e-cd8c-4f10-9123-980a460deb2d",
   "metadata": {},
   "outputs": [
    {
     "ename": "KeyError",
     "evalue": "\"None of ['foodname_ESP', 'foodname_ENG'] are in the columns\"",
     "output_type": "error",
     "traceback": [
      "\u001b[0;31m---------------------------------------------------------------------------\u001b[0m",
      "\u001b[0;31mKeyError\u001b[0m                                  Traceback (most recent call last)",
      "\u001b[0;32m/var/folders/gw/xxqk2g0x7mj2m7hs55y_8vdc0000gn/T/ipykernel_1751/1356533855.py\u001b[0m in \u001b[0;36m<module>\u001b[0;34m\u001b[0m\n\u001b[0;32m----> 1\u001b[0;31m \u001b[0mfut\u001b[0m\u001b[0;34m.\u001b[0m\u001b[0mset_index\u001b[0m\u001b[0;34m(\u001b[0m\u001b[0;34m[\u001b[0m\u001b[0;34m'foodname_ESP'\u001b[0m\u001b[0;34m,\u001b[0m \u001b[0;34m'foodname_ENG'\u001b[0m\u001b[0;34m]\u001b[0m\u001b[0;34m,\u001b[0m \u001b[0minplace\u001b[0m\u001b[0;34m=\u001b[0m\u001b[0;32mTrue\u001b[0m\u001b[0;34m)\u001b[0m\u001b[0;34m\u001b[0m\u001b[0;34m\u001b[0m\u001b[0m\n\u001b[0m\u001b[1;32m      2\u001b[0m \u001b[0;31m#fut.T\u001b[0m\u001b[0;34m\u001b[0m\u001b[0;34m\u001b[0m\u001b[0;34m\u001b[0m\u001b[0m\n",
      "\u001b[0;32m/opt/anaconda3/lib/python3.8/site-packages/pandas/util/_decorators.py\u001b[0m in \u001b[0;36mwrapper\u001b[0;34m(*args, **kwargs)\u001b[0m\n\u001b[1;32m    309\u001b[0m                     \u001b[0mstacklevel\u001b[0m\u001b[0;34m=\u001b[0m\u001b[0mstacklevel\u001b[0m\u001b[0;34m,\u001b[0m\u001b[0;34m\u001b[0m\u001b[0;34m\u001b[0m\u001b[0m\n\u001b[1;32m    310\u001b[0m                 )\n\u001b[0;32m--> 311\u001b[0;31m             \u001b[0;32mreturn\u001b[0m \u001b[0mfunc\u001b[0m\u001b[0;34m(\u001b[0m\u001b[0;34m*\u001b[0m\u001b[0margs\u001b[0m\u001b[0;34m,\u001b[0m \u001b[0;34m**\u001b[0m\u001b[0mkwargs\u001b[0m\u001b[0;34m)\u001b[0m\u001b[0;34m\u001b[0m\u001b[0;34m\u001b[0m\u001b[0m\n\u001b[0m\u001b[1;32m    312\u001b[0m \u001b[0;34m\u001b[0m\u001b[0m\n\u001b[1;32m    313\u001b[0m         \u001b[0;32mreturn\u001b[0m \u001b[0mwrapper\u001b[0m\u001b[0;34m\u001b[0m\u001b[0;34m\u001b[0m\u001b[0m\n",
      "\u001b[0;32m/opt/anaconda3/lib/python3.8/site-packages/pandas/core/frame.py\u001b[0m in \u001b[0;36mset_index\u001b[0;34m(self, keys, drop, append, inplace, verify_integrity)\u001b[0m\n\u001b[1;32m   5449\u001b[0m \u001b[0;34m\u001b[0m\u001b[0m\n\u001b[1;32m   5450\u001b[0m         \u001b[0;32mif\u001b[0m \u001b[0mmissing\u001b[0m\u001b[0;34m:\u001b[0m\u001b[0;34m\u001b[0m\u001b[0;34m\u001b[0m\u001b[0m\n\u001b[0;32m-> 5451\u001b[0;31m             \u001b[0;32mraise\u001b[0m \u001b[0mKeyError\u001b[0m\u001b[0;34m(\u001b[0m\u001b[0;34mf\"None of {missing} are in the columns\"\u001b[0m\u001b[0;34m)\u001b[0m\u001b[0;34m\u001b[0m\u001b[0;34m\u001b[0m\u001b[0m\n\u001b[0m\u001b[1;32m   5452\u001b[0m \u001b[0;34m\u001b[0m\u001b[0m\n\u001b[1;32m   5453\u001b[0m         \u001b[0;32mif\u001b[0m \u001b[0minplace\u001b[0m\u001b[0;34m:\u001b[0m\u001b[0;34m\u001b[0m\u001b[0;34m\u001b[0m\u001b[0m\n",
      "\u001b[0;31mKeyError\u001b[0m: \"None of ['foodname_ESP', 'foodname_ENG'] are in the columns\""
     ]
    }
   ],
   "source": [
    "fut.set_index(['foodname_ESP', 'foodname_ENG'], inplace=True)\n",
    "#fut.T"
   ]
  },
  {
   "cell_type": "code",
   "execution_count": 156,
   "id": "c487ef4c-0626-4c7a-8387-1cc183fdd0ff",
   "metadata": {},
   "outputs": [
    {
     "data": {
      "text/html": [
       "<div>\n",
       "<style scoped>\n",
       "    .dataframe tbody tr th:only-of-type {\n",
       "        vertical-align: middle;\n",
       "    }\n",
       "\n",
       "    .dataframe tbody tr th {\n",
       "        vertical-align: top;\n",
       "    }\n",
       "\n",
       "    .dataframe thead th {\n",
       "        text-align: right;\n",
       "    }\n",
       "</style>\n",
       "<table border=\"1\" class=\"dataframe\">\n",
       "  <thead>\n",
       "    <tr style=\"text-align: right;\">\n",
       "      <th></th>\n",
       "      <th>foodname_ESP</th>\n",
       "      <th>foodname_ENG</th>\n",
       "      <th>quantity</th>\n",
       "      <th>energy</th>\n",
       "      <th>fats</th>\n",
       "      <th>prot</th>\n",
       "      <th>water</th>\n",
       "      <th>fiber</th>\n",
       "      <th>carbs</th>\n",
       "      <th>p_insat_fats</th>\n",
       "      <th>...</th>\n",
       "      <th>sodium</th>\n",
       "      <th>phosphorus</th>\n",
       "      <th>iodide</th>\n",
       "      <th>selenium</th>\n",
       "      <th>zinc</th>\n",
       "      <th>unsat_fats</th>\n",
       "      <th>salt</th>\n",
       "      <th>high_energy</th>\n",
       "      <th>high_carbs</th>\n",
       "      <th>high_fats</th>\n",
       "    </tr>\n",
       "  </thead>\n",
       "  <tbody>\n",
       "    <tr>\n",
       "      <th>0</th>\n",
       "      <td>Arroz con leche</td>\n",
       "      <td>Rice with milk</td>\n",
       "      <td>100</td>\n",
       "      <td>92.0</td>\n",
       "      <td>1.3</td>\n",
       "      <td>3.3</td>\n",
       "      <td>78.9</td>\n",
       "      <td>0.1</td>\n",
       "      <td>16.4</td>\n",
       "      <td>0.08</td>\n",
       "      <td>...</td>\n",
       "      <td>38.0</td>\n",
       "      <td>96.0</td>\n",
       "      <td>6.3</td>\n",
       "      <td>1.9</td>\n",
       "      <td>0.3</td>\n",
       "      <td>0.39</td>\n",
       "      <td>composite</td>\n",
       "      <td>composite</td>\n",
       "      <td>composite</td>\n",
       "      <td>composite</td>\n",
       "    </tr>\n",
       "    <tr>\n",
       "      <th>pera</th>\n",
       "      <td>Arroz con leche</td>\n",
       "      <td>Rice with milk</td>\n",
       "      <td>100</td>\n",
       "      <td>92.0</td>\n",
       "      <td>1.3</td>\n",
       "      <td>3.3</td>\n",
       "      <td>78.9</td>\n",
       "      <td>0.1</td>\n",
       "      <td>16.4</td>\n",
       "      <td>0.08</td>\n",
       "      <td>...</td>\n",
       "      <td>38.0</td>\n",
       "      <td>96.0</td>\n",
       "      <td>6.3</td>\n",
       "      <td>1.9</td>\n",
       "      <td>0.3</td>\n",
       "      <td>0.39</td>\n",
       "      <td>composite</td>\n",
       "      <td>composite</td>\n",
       "      <td>composite</td>\n",
       "      <td>composite</td>\n",
       "    </tr>\n",
       "    <tr>\n",
       "      <th>8</th>\n",
       "      <td>Arroz con leche</td>\n",
       "      <td>Rice with milk</td>\n",
       "      <td>100</td>\n",
       "      <td>92.0</td>\n",
       "      <td>1.3</td>\n",
       "      <td>3.3</td>\n",
       "      <td>78.9</td>\n",
       "      <td>0.1</td>\n",
       "      <td>16.4</td>\n",
       "      <td>0.08</td>\n",
       "      <td>...</td>\n",
       "      <td>38.0</td>\n",
       "      <td>96.0</td>\n",
       "      <td>6.3</td>\n",
       "      <td>1.9</td>\n",
       "      <td>0.3</td>\n",
       "      <td>0.39</td>\n",
       "      <td>composite</td>\n",
       "      <td>composite</td>\n",
       "      <td>composite</td>\n",
       "      <td>composite</td>\n",
       "    </tr>\n",
       "  </tbody>\n",
       "</table>\n",
       "<p>3 rows × 36 columns</p>\n",
       "</div>"
      ],
      "text/plain": [
       "         foodname_ESP    foodname_ENG quantity energy fats prot water fiber  \\\n",
       "0     Arroz con leche  Rice with milk      100   92.0  1.3  3.3  78.9   0.1   \n",
       "pera  Arroz con leche  Rice with milk      100   92.0  1.3  3.3  78.9   0.1   \n",
       "8     Arroz con leche  Rice with milk      100   92.0  1.3  3.3  78.9   0.1   \n",
       "\n",
       "     carbs p_insat_fats  ... sodium phosphorus iodide selenium zinc  \\\n",
       "0     16.4         0.08  ...   38.0       96.0    6.3      1.9  0.3   \n",
       "pera  16.4         0.08  ...   38.0       96.0    6.3      1.9  0.3   \n",
       "8     16.4         0.08  ...   38.0       96.0    6.3      1.9  0.3   \n",
       "\n",
       "     unsat_fats       salt high_energy high_carbs  high_fats  \n",
       "0          0.39  composite   composite  composite  composite  \n",
       "pera       0.39  composite   composite  composite  composite  \n",
       "8          0.39  composite   composite  composite  composite  \n",
       "\n",
       "[3 rows x 36 columns]"
      ]
     },
     "execution_count": 156,
     "metadata": {},
     "output_type": "execute_result"
    }
   ],
   "source": [
    "fut['pera'] = item\n",
    "\n",
    "fut.T"
   ]
  },
  {
   "cell_type": "markdown",
   "id": "cff7fc8e-8c8f-48d4-a844-07812bc69ebd",
   "metadata": {},
   "source": [
    "### BUILDING THE DATAFRAME"
   ]
  },
  {
   "cell_type": "code",
   "execution_count": 107,
   "id": "41d67c3f-9271-4d92-9bc9-bb807ed2038d",
   "metadata": {},
   "outputs": [
    {
     "data": {
      "text/html": [
       "<div>\n",
       "<style scoped>\n",
       "    .dataframe tbody tr th:only-of-type {\n",
       "        vertical-align: middle;\n",
       "    }\n",
       "\n",
       "    .dataframe tbody tr th {\n",
       "        vertical-align: top;\n",
       "    }\n",
       "\n",
       "    .dataframe thead th {\n",
       "        text-align: right;\n",
       "    }\n",
       "</style>\n",
       "<table border=\"1\" class=\"dataframe\">\n",
       "  <thead>\n",
       "    <tr style=\"text-align: right;\">\n",
       "      <th></th>\n",
       "      <th></th>\n",
       "      <th>energy</th>\n",
       "      <th>fats</th>\n",
       "      <th>prot</th>\n",
       "      <th>carbs</th>\n",
       "    </tr>\n",
       "    <tr>\n",
       "      <th>Foodname_ESP</th>\n",
       "      <th>Foodname_ENG</th>\n",
       "      <th></th>\n",
       "      <th></th>\n",
       "      <th></th>\n",
       "      <th></th>\n",
       "    </tr>\n",
       "  </thead>\n",
       "  <tbody>\n",
       "    <tr>\n",
       "      <th>Arroz con leche</th>\n",
       "      <th>Rice with milk</th>\n",
       "      <td>92.0</td>\n",
       "      <td>1.3</td>\n",
       "      <td>3.3</td>\n",
       "      <td>16.4</td>\n",
       "    </tr>\n",
       "  </tbody>\n",
       "</table>\n",
       "</div>"
      ],
      "text/plain": [
       "                                energy  fats  prot  carbs\n",
       "Foodname_ESP    Foodname_ENG                             \n",
       "Arroz con leche Rice with milk    92.0   1.3   3.3   16.4"
      ]
     },
     "execution_count": 107,
     "metadata": {},
     "output_type": "execute_result"
    }
   ],
   "source": [
    "macros = ['energy', 'fats', 'prot', 'carbs']\n",
    "df[macros]"
   ]
  },
  {
   "cell_type": "code",
   "execution_count": null,
   "id": "9842794c-4e26-44a2-b30d-38fe7cbdb976",
   "metadata": {},
   "outputs": [],
   "source": [
    "complementary = ['water', 'fiber', 'sat_fats', 'unsat_fats']\n",
    "df[complementary]\n",
    "\n",
    "flags = ['palm_acid', 'salt', 'high_energy', 'high_carbs', 'high_fats']\n",
    "df[flags]\n",
    "\n",
    "minerals = ['calcium', 'iron', 'potassium', 'magnesium', 'sodium', 'phosphorus', 'iodide', 'selenium', 'zinc']\n",
    "df[minerals]\n",
    "\n",
    "vitamins = ['A', 'D', 'E', 'B9', 'B3', 'B2', 'B1', 'B12', 'B6', 'C']\n",
    "df[vitamins]"
   ]
  }
 ],
 "metadata": {
  "kernelspec": {
   "display_name": "Python 3 (ipykernel)",
   "language": "python",
   "name": "python3"
  },
  "language_info": {
   "codemirror_mode": {
    "name": "ipython",
    "version": 3
   },
   "file_extension": ".py",
   "mimetype": "text/x-python",
   "name": "python",
   "nbconvert_exporter": "python",
   "pygments_lexer": "ipython3",
   "version": "3.8.12"
  }
 },
 "nbformat": 4,
 "nbformat_minor": 5
}
