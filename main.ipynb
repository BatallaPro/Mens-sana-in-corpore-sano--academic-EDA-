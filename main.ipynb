{
 "cells": [
  {
   "cell_type": "markdown",
   "id": "fc8aac93-078f-452b-91e2-4f9a84654481",
   "metadata": {},
   "source": [
    "# MENS SANA IN CORPORE SANO (ACADEMIC EDA)"
   ]
  },
  {
   "cell_type": "markdown",
   "id": "5480e2b7-642f-489d-89b1-a3b6bbfbfac6",
   "metadata": {},
   "source": [
    "## OBJECTIVE"
   ]
  },
  {
   "cell_type": "markdown",
   "id": "ae327f74-1362-49c4-a117-266fc879292f",
   "metadata": {},
   "source": [
    "## CONTENTS\n",
    "\n",
    "* Presentation (60% of the grade), max. 10 mins.\n",
    "* Memory and documentation (20%) max. 10 pages\n",
    "* Code (10%)\n",
    "* GitHub upload (10%), include a .txt with the link to the repository"
   ]
  }
 ],
 "metadata": {
  "kernelspec": {
   "display_name": "Python 3 (ipykernel)",
   "language": "python",
   "name": "python3"
  },
  "language_info": {
   "codemirror_mode": {
    "name": "ipython",
    "version": 3
   },
   "file_extension": ".py",
   "mimetype": "text/x-python",
   "name": "python",
   "nbconvert_exporter": "python",
   "pygments_lexer": "ipython3",
   "version": "3.8.12"
  }
 },
 "nbformat": 4,
 "nbformat_minor": 5
}
